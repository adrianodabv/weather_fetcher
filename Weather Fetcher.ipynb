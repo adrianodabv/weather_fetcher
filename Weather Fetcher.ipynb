{
 "cells": [
  {
   "cell_type": "markdown",
   "id": "# Use your OpenWeatherMap API ID here",
   "metadata": {},
   "source": [
    "# Weather Fetcher"
   ]
  },
  {
   "cell_type": "code",
   "execution_count": 39,
   "id": "2303fe43-ca3d-483e-9e70-6be8e516c159",
   "metadata": {},
   "outputs": [
    {
     "name": "stdin",
     "output_type": "stream",
     "text": [
      "Choose a city to check its weather now: Fortaleza\n"
     ]
    },
    {
     "name": "stdout",
     "output_type": "stream",
     "text": [
      "Weather: Scattered clouds\n",
      "Temperature: 29 Celsius\n"
     ]
    }
   ],
   "source": [
    "import requests\n",
    "\n",
    "# Constants\n",
    "API_KEY = '5e9c2defcc829ba2a891bc40d95b63f5'\n",
    "BASE_URL = 'http://api.openweathermap.org/data/2.5/weather'\n",
    "\n",
    "# Get user input\n",
    "city = input('Choose a city to check its weather now:')\n",
    "request_url = f'{BASE_URL}?appid={API_KEY}&q={city}'\n",
    "response = requests.get(request_url)\n",
    "\n",
    "if response.status_code == 200:\n",
    "    data = response.json()\n",
    "    weather = data['weather'][0]['description'].capitalize() # Get weather description and capitalize first letter\n",
    "    temperature = int(data['main']['temp'] - 273.15) # Get temperature and convert from Kelvin to Celsius\n",
    "    print('Weather:', weather)\n",
    "    print('Temperature:', temperature, 'Celsius')\n",
    "\n",
    "else:\n",
    "    print('An error occured.')"
   ]
  },
  {
   "cell_type": "code",
   "execution_count": null,
   "id": "588f3036-f821-40f8-9f5c-b6562ff67df2",
   "metadata": {},
   "outputs": [],
   "source": []
  }
 ],
 "metadata": {
  "kernelspec": {
   "display_name": "Python 3 (ipykernel)",
   "language": "python",
   "name": "python3"
  },
  "language_info": {
   "codemirror_mode": {
    "name": "ipython",
    "version": 3
   },
   "file_extension": ".py",
   "mimetype": "text/x-python",
   "name": "python",
   "nbconvert_exporter": "python",
   "pygments_lexer": "ipython3",
   "version": "3.12.7"
  }
 },
 "nbformat": 4,
 "nbformat_minor": 5
}
